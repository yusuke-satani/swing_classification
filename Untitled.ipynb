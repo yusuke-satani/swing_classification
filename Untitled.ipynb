{
 "cells": [
  {
   "cell_type": "code",
   "execution_count": 4,
   "id": "e7012757-e741-4cf7-be4f-80cbe0bb7ab2",
   "metadata": {},
   "outputs": [
    {
     "name": "stderr",
     "output_type": "stream",
     "text": [
      "\n",
      "0: 352x640 1 person, 406.0ms\n",
      "Speed: 28.6ms preprocess, 406.0ms inference, 27.1ms postprocess per image at shape (1, 3, 352, 640)\n"
     ]
    },
    {
     "data": {
      "text/plain": [
       "True"
      ]
     },
     "execution_count": 4,
     "metadata": {},
     "output_type": "execute_result"
    }
   ],
   "source": [
    "import cv2\n",
    "from ultralytics import YOLO\n",
    "\n",
    "# モデルの読み込み。姿勢推論用のモデルデータを読み込む\n",
    "model = YOLO(\"yolov8n-pose.pt\")\n",
    "\n",
    "pic = \"federer_backhand.jpg\"\n",
    "frame = cv2.imread(pic)\n",
    "result = model(frame)\n",
    "\n",
    "plottedFrame = result[0].plot()\n",
    "cv2.imwrite(pic + \"-result.jpg\", plottedFrame)"
   ]
  },
  {
   "cell_type": "code",
   "execution_count": null,
   "id": "d91bf82d-23a5-4b48-9227-5c829797b28b",
   "metadata": {},
   "outputs": [],
   "source": []
  },
  {
   "cell_type": "code",
   "execution_count": null,
   "id": "239d7b2a-973b-41c4-85a9-8cab0467e24c",
   "metadata": {},
   "outputs": [],
   "source": []
  },
  {
   "cell_type": "code",
   "execution_count": null,
   "id": "bda8ccc1-41ed-41c6-a1fc-cac95df0a77b",
   "metadata": {},
   "outputs": [],
   "source": []
  }
 ],
 "metadata": {
  "kernelspec": {
   "display_name": "Python 3",
   "language": "python",
   "name": "python3"
  },
  "language_info": {
   "codemirror_mode": {
    "name": "ipython",
    "version": 3
   },
   "file_extension": ".py",
   "mimetype": "text/x-python",
   "name": "python",
   "nbconvert_exporter": "python",
   "pygments_lexer": "ipython3",
   "version": "3.8.5"
  }
 },
 "nbformat": 4,
 "nbformat_minor": 5
}
